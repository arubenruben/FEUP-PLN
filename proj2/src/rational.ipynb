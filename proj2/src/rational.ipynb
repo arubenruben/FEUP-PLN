{
 "cells": [
  {
   "cell_type": "code",
   "execution_count": 1,
   "metadata": {
    "scrolled": true,
    "tags": []
   },
   "outputs": [],
   "source": [
    "import os\n",
    "import pandas as pd\n",
    "import numpy as np\n",
    "from transformers import AutoTokenizer, AutoModelForSequenceClassification\n",
    "from transformers import TrainingArguments, Trainer\n",
    "from transformers import DataCollatorWithPadding\n",
    "from transformers.optimization import Adafactor, AdafactorSchedule\n",
    "from datasets import Dataset\n",
    "from datasets import DatasetDict\n",
    "from datasets import load_metric\n",
    "from sklearn.model_selection import train_test_split\n",
    "import json\n",
    "import torch"
   ]
  },
  {
   "cell_type": "code",
   "execution_count": 2,
   "metadata": {},
   "outputs": [],
   "source": [
    "NUM_LABELS = 5\n",
    "\n",
    "model_name = \"neuralmind/bert-base-portuguese-cased\""
   ]
  },
  {
   "cell_type": "code",
   "execution_count": 3,
   "metadata": {},
   "outputs": [],
   "source": [
    "ENCODING = {\"label\": {\"Value\": 0, \"Value(+)\": 1, \"Value(-)\": 2, \"Fact\": 3, \"Policy\": 4}}\n",
    "\n",
    "\n",
    "def create_index_column(df):\n",
    "    df[\"id\"] = df.index + 1\n",
    "\n",
    "def load_dataset():\n",
    "    \n",
    "    df_text = pd.DataFrame(pd.read_excel(os.path.join('./dataset', 'OpArticles.ods')))\n",
    "\n",
    "    df_adu = pd.DataFrame(\n",
    "        pd.read_excel(os.path.join('./dataset', 'aug.ods')))\n",
    "    \n",
    "    create_index_column(df_adu)\n",
    "    \n",
    "    return df_adu, df_text\n",
    "\n",
    "\n",
    "\n",
    "def remove_dataframe_rows_by_id(df_to_remove, list_ids_to_remove):\n",
    "    df_to_remove.set_index(\"id\", inplace=True)\n",
    "\n",
    "    df_to_remove.drop(list_ids_to_remove, inplace=True)\n",
    "\n",
    "    df_to_remove.reset_index(inplace=True)\n",
    "\n",
    "\n",
    "def split_train_test(df):\n",
    "    \n",
    "    train, test = train_test_split(df, test_size=0.3, random_state=42, stratify=df['label'])\n",
    "    \n",
    "    \n",
    "    val, test = train_test_split(test, test_size=0.3, random_state=42, stratify=test['label'])\n",
    "\n",
    "    train = pd.DataFrame.from_dict(train)\n",
    "    \n",
    "    val = pd.DataFrame.from_dict(val)\n",
    "    \n",
    "    test = pd.DataFrame.from_dict(test)\n",
    "    \n",
    "    return train, val, test\n",
    "    \n",
    "def outlier_detection(df_adu):\n",
    "    results = {}\n",
    "    dict_collisions = {}\n",
    "    for _, row in df_adu.iterrows():\n",
    "        if row['article_id'] not in results.keys():\n",
    "            results[row['article_id']] = {\n",
    "                'A': [],\n",
    "                'B': [],\n",
    "                'C': [],\n",
    "                'D': []\n",
    "            }\n",
    "\n",
    "        if row['annotator'] == 'A':\n",
    "            results[row['article_id']]['A'].append({\n",
    "                'id': row['id'],\n",
    "                'ranges': row['ranges'],\n",
    "                'tokens': row['tokens'],\n",
    "                'label': row['label']\n",
    "            })\n",
    "\n",
    "        elif row['annotator'] == 'B':\n",
    "            results[row['article_id']]['B'].append({\n",
    "                'id': row['id'],\n",
    "                'ranges': row['ranges'],\n",
    "                'tokens': row['tokens'],\n",
    "                'label': row['label']\n",
    "            })\n",
    "\n",
    "        elif row['annotator'] == 'C':\n",
    "            results[row['article_id']]['C'].append({\n",
    "                'id': row['id'],\n",
    "                'ranges': row['ranges'],\n",
    "                'tokens': row['tokens'],\n",
    "                'label': row['label']\n",
    "            })\n",
    "\n",
    "        elif row['annotator'] == 'D':\n",
    "            results[row['article_id']]['D'].append({\n",
    "                'id': row['id'],\n",
    "                'ranges': row['ranges'],\n",
    "                'tokens': row['tokens'],\n",
    "                'label': row['label']\n",
    "            })\n",
    "\n",
    "    for article_id in results.keys():\n",
    "\n",
    "        for adu_A in results[article_id]['A']:\n",
    "            adu_matching(adu_A, results[article_id]['B'], results[article_id]['C'], results[article_id]['D'],\n",
    "                         dict_collisions)\n",
    "        for adu_B in results[article_id]['B']:\n",
    "            adu_matching(adu_B, results[article_id]['A'], results[article_id]['C'], results[article_id]['D'],\n",
    "                         dict_collisions)\n",
    "        for adu_C in results[article_id]['C']:\n",
    "            adu_matching(adu_C, results[article_id]['A'], results[article_id]['B'], results[article_id]['D'],\n",
    "                         dict_collisions)\n",
    "        for adu_D in results[article_id]['D']:\n",
    "            adu_matching(adu_D, results[article_id]['A'], results[article_id]['B'], results[article_id]['C'],\n",
    "                         dict_collisions)\n",
    "\n",
    "    return dict_collisions\n",
    "\n",
    "\n",
    "def adu_matching(adu, list_annotater_X, list_annotater_Y, list_annotater_Z, dict_collisions):\n",
    "    for iterator in [list_annotater_X, list_annotater_Y, list_annotater_Z]:\n",
    "        for elem in iterator:\n",
    "            if json.loads(adu['ranges'])[0][0] < json.loads(elem['ranges'])[0][0] < json.loads(adu['ranges'])[0][1]:\n",
    "                if adu['label'] != elem['label']:\n",
    "                    # print(f\"Disagreement between:\\n{adu['tokens']} \\n and \\n {elem['tokens']}\")\n",
    "                    if adu['id'] not in dict_collisions.keys():\n",
    "                        dict_collisions[adu['id']] = [elem['id']]\n",
    "                    else:\n",
    "                        dict_collisions[adu['id']].append(elem['id'])\n",
    "\n",
    "\n",
    "def deal_with_outliers(df_adu, dict_collisions, option='delete'):\n",
    "    # print(f\"Before:{df_adu.describe()}\")\n",
    "\n",
    "    if option == 'delete':\n",
    "        list_to_remove = []\n",
    "\n",
    "        for key_left in dict_collisions.keys():\n",
    "            list_to_remove.append(key_left)\n",
    "            for elem in dict_collisions[key_left]:\n",
    "                list_to_remove.append(elem)\n",
    "\n",
    "        remove_dataframe_rows_by_id(df_adu, list_to_remove)\n",
    "\n",
    "    elif option == 'majority':\n",
    "        list_to_remove = []\n",
    "        for key_left in dict_collisions.keys():\n",
    "            counters = {\n",
    "                'Fact': 0,\n",
    "                'Policy': 0,\n",
    "                'Value': 0,\n",
    "                'Value(+)': 0,\n",
    "                'Value(-)': 0,\n",
    "            }\n",
    "\n",
    "            majority_vote = None\n",
    "            number_votes = 0\n",
    "\n",
    "            adu = df_adu.loc[df_adu['id'] == key_left].iloc[0]\n",
    "\n",
    "            counters[adu['label']] += 1\n",
    "\n",
    "            for elem in dict_collisions[key_left]:\n",
    "                adu = df_adu.loc[df_adu['id'] == elem].iloc[0]\n",
    "                counters[adu['label']] += 1\n",
    "\n",
    "            for elem in counters.keys():\n",
    "                number_votes += counters[elem]\n",
    "\n",
    "            \"\"\"\n",
    "            Find the majority vote type\n",
    "            Majority_Vote returns a Valid Label\n",
    "            \"\"\"\n",
    "\n",
    "            for elem in counters.keys():\n",
    "                if counters[elem] / number_votes >= 0.5:\n",
    "                    majority_vote = elem\n",
    "                    break\n",
    "\n",
    "            if not majority_vote:\n",
    "                continue\n",
    "\n",
    "            if adu['label'] != majority_vote:\n",
    "                list_to_remove.append(adu['id'])\n",
    "\n",
    "            for elem in dict_collisions[key_left]:\n",
    "                elem_adu = df_adu.loc[df_adu['id'] == elem].iloc[0]\n",
    "                if elem_adu['label'] != majority_vote:\n",
    "                    list_to_remove.append(elem_adu['id'])\n",
    "\n",
    "        remove_dataframe_rows_by_id(df_adu, list_to_remove)\n",
    "\n",
    "    # print(f\"After:{df_adu.describe()}\")\n",
    "#ENCODING = {\"label\": {\"Value\": 0, \"Value(+)\": 1, \"Value(-)\": 2, \"Fact\": 3, \"Policy\": 4}}   \n",
    "def augment_train(df_train):\n",
    "    new_lines={\n",
    "        'tokens':[],\n",
    "        'label':[],\n",
    "    }\n",
    "    for _, row in df_train.iterrows():\n",
    "        #if row['label'] == 1 or row['label'] == 4:\n",
    "        if row['label'] == 4 :\n",
    "            correct_str = row['augmented']\n",
    "            \n",
    "            en_str = row['en']\n",
    "            sp_str = row['sp']\n",
    "            \n",
    "            if not row['tokens'][0].isupper():\n",
    "                correct_str = correct_str[0].lower() + correct_str[1:]\n",
    "                en_str = en_str[0].lower() + en_str[1:]\n",
    "                sp_str = sp_str[0].lower() + sp_str[1:]\n",
    "                        \n",
    "            new_lines['tokens'].append(correct_str)\n",
    "            new_lines['label'].append(row['label'])\n",
    "            #new_lines['tokens'].append(en_str)\n",
    "            #new_lines['label'].append(row['label'])\n",
    "            #new_lines['tokens'].append(sp_str)\n",
    "            #new_lines['label'].append(row['label'])\n",
    "        \n",
    "    df = pd.DataFrame(new_lines)\n",
    "    \n",
    "    return df_train.append(df, ignore_index = True)\n",
    "\n",
    "def clean_duplicates(df_adu):\n",
    "    print(f\"Before: {len(df_adu)}\")\n",
    "    \n",
    "    new_lines={\n",
    "        'tokens':[],\n",
    "        'label':[],\n",
    "    }\n",
    "    \n",
    "    for index, row in df_adu.iterrows():\n",
    "        \n",
    "        if len(df_adu[df_adu['tokens']==row['tokens']])==1:\n",
    "            new_lines['tokens'].append(row['tokens'])\n",
    "            new_lines['label'].append(row['label'])\n",
    "        elif row['label'] != 0:\n",
    "            if row['tokens'] not in new_lines['tokens']:\n",
    "                new_lines['tokens'].append(row['tokens'])\n",
    "                new_lines['label'].append(row['label'])\n",
    "    \n",
    "    \n",
    "    df_adu = pd.DataFrame(new_lines)   \n",
    "    \n",
    "    print(f\"After: {len(df_adu)}\")\n",
    "    \n",
    "    return df_adu "
   ]
  },
  {
   "cell_type": "code",
   "execution_count": 4,
   "metadata": {},
   "outputs": [],
   "source": [
    "def tokenize_function(example):\n",
    "    return tokenizer(example[\"tokens\"], padding=True)"
   ]
  },
  {
   "cell_type": "code",
   "execution_count": 5,
   "metadata": {},
   "outputs": [],
   "source": [
    "df_adu, _ = load_dataset()\n",
    "\n",
    "train, val, test = split_train_test(df_adu)\n",
    "\n",
    "dict_collisions = outlier_detection(train)\n",
    "\n",
    "deal_with_outliers(train, dict_collisions, 'delete')\n",
    "\n",
    "train.drop(columns=['article_id', 'annotator', 'node', 'ranges', 'id'], inplace = True)\n",
    "train.replace(ENCODING, inplace=True)\n",
    "train.reset_index(drop=True, inplace=True)\n",
    "\n",
    "val.drop(columns=['article_id', 'annotator', 'node', 'ranges', 'id', 'sp', 'augmented', 'en'], inplace = True)\n",
    "val.replace(ENCODING, inplace=True)\n",
    "val.reset_index(drop=True, inplace=True)\n",
    "\n",
    "test.drop(columns=['article_id', 'annotator', 'node', 'ranges', 'id', 'sp', 'augmented', 'en'], inplace = True)\n",
    "test.replace(ENCODING, inplace=True)\n",
    "test.reset_index(drop=True, inplace=True)\n",
    "\n",
    "train = augment_train(train)\n",
    "\n",
    "train.drop(columns=['sp', 'augmented', 'en'], inplace = True)\n",
    "\n",
    "#train = clean_duplicates(train)"
   ]
  },
  {
   "cell_type": "code",
   "execution_count": 6,
   "metadata": {},
   "outputs": [
    {
     "name": "stderr",
     "output_type": "stream",
     "text": [
      "Some weights of the model checkpoint at neuralmind/bert-base-portuguese-cased were not used when initializing BertForSequenceClassification: ['cls.predictions.bias', 'cls.predictions.transform.dense.weight', 'cls.predictions.transform.LayerNorm.weight', 'cls.predictions.transform.dense.bias', 'cls.seq_relationship.weight', 'cls.predictions.transform.LayerNorm.bias', 'cls.predictions.decoder.weight', 'cls.seq_relationship.bias']\n",
      "- This IS expected if you are initializing BertForSequenceClassification from the checkpoint of a model trained on another task or with another architecture (e.g. initializing a BertForSequenceClassification model from a BertForPreTraining model).\n",
      "- This IS NOT expected if you are initializing BertForSequenceClassification from the checkpoint of a model that you expect to be exactly identical (initializing a BertForSequenceClassification model from a BertForSequenceClassification model).\n",
      "Some weights of BertForSequenceClassification were not initialized from the model checkpoint at neuralmind/bert-base-portuguese-cased and are newly initialized: ['classifier.bias', 'classifier.weight']\n",
      "You should probably TRAIN this model on a down-stream task to be able to use it for predictions and inference.\n"
     ]
    },
    {
     "data": {
      "application/vnd.jupyter.widget-view+json": {
       "model_id": "9bb8cc00b0714ce78d88c301f01dcda4",
       "version_major": 2,
       "version_minor": 0
      },
      "text/plain": [
       "  0%|          | 0/12 [00:00<?, ?ba/s]"
      ]
     },
     "metadata": {},
     "output_type": "display_data"
    },
    {
     "data": {
      "application/vnd.jupyter.widget-view+json": {
       "model_id": "cb694d8b96e047eeafc77ed08b1e677e",
       "version_major": 2,
       "version_minor": 0
      },
      "text/plain": [
       "  0%|          | 0/4 [00:00<?, ?ba/s]"
      ]
     },
     "metadata": {},
     "output_type": "display_data"
    },
    {
     "data": {
      "application/vnd.jupyter.widget-view+json": {
       "model_id": "7706adf12bba408b93bd077b952949b7",
       "version_major": 2,
       "version_minor": 0
      },
      "text/plain": [
       "  0%|          | 0/2 [00:00<?, ?ba/s]"
      ]
     },
     "metadata": {},
     "output_type": "display_data"
    }
   ],
   "source": [
    "train_valid_test_dataset = DatasetDict({\n",
    "    'train': Dataset.from_pandas(train),\n",
    "    'validation': Dataset.from_pandas(val),\n",
    "    'test': Dataset.from_pandas(test)\n",
    "})\n",
    "\n",
    "\n",
    "tokenizer = AutoTokenizer.from_pretrained(model_name, do_lower_case=False)\n",
    "\n",
    "model = AutoModelForSequenceClassification.from_pretrained(model_name, num_labels = NUM_LABELS)\n",
    "\n",
    "tokenized_dataset = train_valid_test_dataset.map(tokenize_function, batched=True)\n",
    "\n",
    "max_layer = 11\n",
    "#max_layer = 24\n",
    "\n",
    "for name, param in model.named_parameters():\n",
    "    for elem in range(max_layer-5):\n",
    "        if name.startswith(f\"bert.encoder.layer.{elem}.\"): # choose whatever you like here\n",
    "            param.requires_grad = False"
   ]
  },
  {
   "cell_type": "code",
   "execution_count": 7,
   "metadata": {},
   "outputs": [
    {
     "name": "stdout",
     "output_type": "stream",
     "text": [
      "[0.42225627 2.51379704 1.20010887 0.98244207 2.61208531]\n"
     ]
    },
    {
     "name": "stderr",
     "output_type": "stream",
     "text": [
      "/usr/local/lib/python3.6/dist-packages/sklearn/utils/validation.py:72: FutureWarning: Pass classes=[0 1 2 3 4], y=[3 2 0 ... 4 4 4] as keyword args. From version 1.0 (renaming of 0.25) passing these as positional arguments will result in an error\n",
      "  \"will result in an error\", FutureWarning)\n"
     ]
    }
   ],
   "source": [
    "from sklearn.utils.class_weight import compute_class_weight\n",
    "\n",
    "weights = compute_class_weight('balanced', np.unique(train['label']),np.array(train['label']))\n",
    "\n",
    "print(weights)"
   ]
  },
  {
   "cell_type": "code",
   "execution_count": 8,
   "metadata": {},
   "outputs": [
    {
     "name": "stderr",
     "output_type": "stream",
     "text": [
      "/usr/local/lib/python3.6/dist-packages/setuptools/distutils_patch.py:26: UserWarning: Distutils was imported before Setuptools. This usage is discouraged and may exhibit undesirable behaviors or errors. Please use Setuptools' objects directly or at least import Setuptools first.\n",
      "  \"Distutils was imported before Setuptools. This usage is discouraged \"\n",
      "Using amp half precision backend\n"
     ]
    }
   ],
   "source": [
    "#ENCODING = {\"label\": {\"Value\": 0, \"Value(+)\": 1, \"Value(-)\": 2, \"Fact\": 3, \"Policy\": 4}}\n",
    "from torch import nn\n",
    "from transformers import Trainer\n",
    "\n",
    "\n",
    "class CustomTrainer(Trainer):\n",
    "    def compute_loss(self, model, inputs, return_outputs=False):\n",
    "        labels = inputs.get(\"labels\")\n",
    "        # forward pass\n",
    "        outputs = model(**inputs)\n",
    "        logits = outputs.get('logits')\n",
    "        # compute custom loss\n",
    "        #loss_fct = nn.CrossEntropyLoss()\n",
    "        #loss_fct = nn.CrossEntropyLoss(weight=torch.cuda.FloatTensor([0.144841791087912, 0.36597554029858, 0.19756812689478, 0.1785916532763, 0.41302288844243]))\n",
    "        loss_fct = nn.CrossEntropyLoss(weight=torch.cuda.FloatTensor([0.044841791087912, 0.36597554029858, 0.09756812689478, 0.0785916532763, 0.41302288844243]))\n",
    "        #loss_fct = nn.CrossEntropyLoss(weight=torch.cuda.FloatTensor([0.0083380112344987, 0.062851882499246, 0.017616001354013, 0.014306433866884, 0.89688767104536]))\n",
    "        loss = loss_fct(logits.view(-1, self.model.config.num_labels), labels.view(-1))\n",
    "        return (loss, outputs) if return_outputs else loss\n",
    "\n",
    "\n",
    "\n",
    "def compute_metrics(eval_pred):\n",
    "    metric = load_metric(\"f1\")\n",
    "    logits, labels = eval_pred\n",
    "    predictions = np.argmax(logits, axis=-1)\n",
    "    f1_val = metric.compute(predictions=predictions, references=labels, average='macro')\n",
    "\n",
    "    metric = load_metric(\"accuracy\")\n",
    "    acc_val = metric.compute(predictions=predictions, references=labels)\n",
    "\n",
    "    return {\n",
    "        'f1':f1_val['f1'],\n",
    "        'accuracy':acc_val['accuracy'],\n",
    "    }\n",
    "\n",
    "optimizer = Adafactor(model.parameters(), scale_parameter=True, relative_step=True, warmup_init=True, lr=None)\n",
    "\n",
    "lr_scheduler = AdafactorSchedule(optimizer)\n",
    "\n",
    "training_args = TrainingArguments(\n",
    "    output_dir=\"./results\",\n",
    "    per_device_train_batch_size=64,\n",
    "    per_device_eval_batch_size=16,\n",
    "    num_train_epochs=5,\n",
    "    logging_strategy=\"epoch\",\n",
    "    evaluation_strategy=\"epoch\", # run validation at the end of each epoch\n",
    "    save_strategy=\"no\",\n",
    "    fp16=True,\n",
    ")\n",
    "\n",
    "data_collator = DataCollatorWithPadding(tokenizer=tokenizer)\n",
    "\n",
    "trainer = CustomTrainer(\n",
    "    model=model,\n",
    "    args=training_args,\n",
    "    train_dataset=tokenized_dataset[\"train\"],\n",
    "    eval_dataset=tokenized_dataset[\"validation\"],\n",
    "    tokenizer=tokenizer,\n",
    "    data_collator=data_collator,\n",
    "    compute_metrics=compute_metrics,\n",
    "    optimizers=(optimizer, lr_scheduler)\n",
    ")"
   ]
  },
  {
   "cell_type": "code",
   "execution_count": 9,
   "metadata": {},
   "outputs": [
    {
     "name": "stderr",
     "output_type": "stream",
     "text": [
      "The following columns in the training set  don't have a corresponding argument in `BertForSequenceClassification.forward` and have been ignored: tokens. If tokens are not expected by `BertForSequenceClassification.forward`,  you can safely ignore this message.\n",
      "***** Running training *****\n",
      "  Num examples = 11023\n",
      "  Num Epochs = 5\n",
      "  Instantaneous batch size per device = 64\n",
      "  Total train batch size (w. parallel, distributed & accumulation) = 64\n",
      "  Gradient Accumulation steps = 1\n",
      "  Total optimization steps = 865\n"
     ]
    },
    {
     "data": {
      "text/html": [
       "\n",
       "    <div>\n",
       "      \n",
       "      <progress value='865' max='865' style='width:300px; height:20px; vertical-align: middle;'></progress>\n",
       "      [865/865 08:53, Epoch 5/5]\n",
       "    </div>\n",
       "    <table border=\"1\" class=\"dataframe\">\n",
       "  <thead>\n",
       " <tr style=\"text-align: left;\">\n",
       "      <th>Epoch</th>\n",
       "      <th>Training Loss</th>\n",
       "      <th>Validation Loss</th>\n",
       "      <th>F1</th>\n",
       "      <th>Accuracy</th>\n",
       "    </tr>\n",
       "  </thead>\n",
       "  <tbody>\n",
       "    <tr>\n",
       "      <td>1</td>\n",
       "      <td>1.581600</td>\n",
       "      <td>1.534647</td>\n",
       "      <td>0.074824</td>\n",
       "      <td>0.092150</td>\n",
       "    </tr>\n",
       "    <tr>\n",
       "      <td>2</td>\n",
       "      <td>1.275700</td>\n",
       "      <td>1.195450</td>\n",
       "      <td>0.295517</td>\n",
       "      <td>0.295506</td>\n",
       "    </tr>\n",
       "    <tr>\n",
       "      <td>3</td>\n",
       "      <td>0.923800</td>\n",
       "      <td>0.985746</td>\n",
       "      <td>0.476445</td>\n",
       "      <td>0.465017</td>\n",
       "    </tr>\n",
       "    <tr>\n",
       "      <td>4</td>\n",
       "      <td>0.750200</td>\n",
       "      <td>0.969085</td>\n",
       "      <td>0.541806</td>\n",
       "      <td>0.543515</td>\n",
       "    </tr>\n",
       "    <tr>\n",
       "      <td>5</td>\n",
       "      <td>0.644100</td>\n",
       "      <td>0.975895</td>\n",
       "      <td>0.540859</td>\n",
       "      <td>0.541524</td>\n",
       "    </tr>\n",
       "  </tbody>\n",
       "</table><p>"
      ],
      "text/plain": [
       "<IPython.core.display.HTML object>"
      ]
     },
     "metadata": {},
     "output_type": "display_data"
    },
    {
     "name": "stderr",
     "output_type": "stream",
     "text": [
      "Trainer is attempting to log a value of \"7.229083621496102e-06\" of type <class 'torch.Tensor'> for key \"train/learning_rate\" as a scalar. This invocation of Tensorboard's writer.add_scalar() is incorrect so we dropped this attribute.\n",
      "The following columns in the evaluation set  don't have a corresponding argument in `BertForSequenceClassification.forward` and have been ignored: tokens. If tokens are not expected by `BertForSequenceClassification.forward`,  you can safely ignore this message.\n",
      "***** Running Evaluation *****\n",
      "  Num examples = 3516\n",
      "  Batch size = 16\n",
      "Trainer is attempting to log a value of \"1.458576662116684e-05\" of type <class 'torch.Tensor'> for key \"train/learning_rate\" as a scalar. This invocation of Tensorboard's writer.add_scalar() is incorrect so we dropped this attribute.\n",
      "The following columns in the evaluation set  don't have a corresponding argument in `BertForSequenceClassification.forward` and have been ignored: tokens. If tokens are not expected by `BertForSequenceClassification.forward`,  you can safely ignore this message.\n",
      "***** Running Evaluation *****\n",
      "  Num examples = 3516\n",
      "  Batch size = 16\n",
      "Trainer is attempting to log a value of \"2.194257285736967e-05\" of type <class 'torch.Tensor'> for key \"train/learning_rate\" as a scalar. This invocation of Tensorboard's writer.add_scalar() is incorrect so we dropped this attribute.\n",
      "The following columns in the evaluation set  don't have a corresponding argument in `BertForSequenceClassification.forward` and have been ignored: tokens. If tokens are not expected by `BertForSequenceClassification.forward`,  you can safely ignore this message.\n",
      "***** Running Evaluation *****\n",
      "  Num examples = 3516\n",
      "  Batch size = 16\n",
      "Trainer is attempting to log a value of \"2.929960101027973e-05\" of type <class 'torch.Tensor'> for key \"train/learning_rate\" as a scalar. This invocation of Tensorboard's writer.add_scalar() is incorrect so we dropped this attribute.\n",
      "The following columns in the evaluation set  don't have a corresponding argument in `BertForSequenceClassification.forward` and have been ignored: tokens. If tokens are not expected by `BertForSequenceClassification.forward`,  you can safely ignore this message.\n",
      "***** Running Evaluation *****\n",
      "  Num examples = 3516\n",
      "  Batch size = 16\n",
      "Trainer is attempting to log a value of \"3.6657093005487695e-05\" of type <class 'torch.Tensor'> for key \"train/learning_rate\" as a scalar. This invocation of Tensorboard's writer.add_scalar() is incorrect so we dropped this attribute.\n",
      "The following columns in the evaluation set  don't have a corresponding argument in `BertForSequenceClassification.forward` and have been ignored: tokens. If tokens are not expected by `BertForSequenceClassification.forward`,  you can safely ignore this message.\n",
      "***** Running Evaluation *****\n",
      "  Num examples = 3516\n",
      "  Batch size = 16\n",
      "\n",
      "\n",
      "Training completed. Do not forget to share your model on huggingface.co/models =)\n",
      "\n",
      "\n",
      "The following columns in the evaluation set  don't have a corresponding argument in `BertForSequenceClassification.forward` and have been ignored: tokens. If tokens are not expected by `BertForSequenceClassification.forward`,  you can safely ignore this message.\n",
      "***** Running Evaluation *****\n",
      "  Num examples = 3516\n",
      "  Batch size = 16\n"
     ]
    },
    {
     "data": {
      "text/html": [
       "\n",
       "    <div>\n",
       "      \n",
       "      <progress value='220' max='220' style='width:300px; height:20px; vertical-align: middle;'></progress>\n",
       "      [220/220 00:08]\n",
       "    </div>\n",
       "    "
      ],
      "text/plain": [
       "<IPython.core.display.HTML object>"
      ]
     },
     "metadata": {},
     "output_type": "display_data"
    },
    {
     "data": {
      "text/plain": [
       "{'eval_loss': 0.975895345211029,\n",
       " 'eval_f1': 0.5408591846213371,\n",
       " 'eval_accuracy': 0.5415244596131968,\n",
       " 'eval_runtime': 8.6548,\n",
       " 'eval_samples_per_second': 406.25,\n",
       " 'eval_steps_per_second': 25.419,\n",
       " 'epoch': 5.0}"
      ]
     },
     "execution_count": 9,
     "metadata": {},
     "output_type": "execute_result"
    }
   ],
   "source": [
    "trainer.train()\n",
    "trainer.evaluate()"
   ]
  },
  {
   "cell_type": "code",
   "execution_count": 10,
   "metadata": {},
   "outputs": [
    {
     "name": "stderr",
     "output_type": "stream",
     "text": [
      "PyTorch: setting up devices\n",
      "The default value for the training argument `--report_to` will change in v5 (from all installed integrations to none). In v5, you will need to use `--report_to all` to get the same behavior as now. You should start updating your code and make this info disappear :-).\n",
      "Using amp half precision backend\n"
     ]
    }
   ],
   "source": [
    "max_layer = 11\n",
    "#max_layer = 24\n",
    "\n",
    "for name, param in model.named_parameters():\n",
    "    for elem in range(max_layer):\n",
    "        param.requires_grad = True\n",
    "\n",
    "training_args = TrainingArguments(\n",
    "    output_dir=\"./results\",\n",
    "    per_device_train_batch_size=64,\n",
    "    per_device_eval_batch_size=16,\n",
    "    num_train_epochs=1,\n",
    "    logging_strategy=\"epoch\",\n",
    "    evaluation_strategy=\"epoch\", # run validation at the end of each epoch\n",
    "    save_strategy=\"no\",\n",
    "    fp16=True,\n",
    ")\n",
    "\n",
    "trainer = CustomTrainer(\n",
    "    model=model,\n",
    "    args=training_args,\n",
    "    train_dataset=tokenized_dataset[\"train\"],\n",
    "    eval_dataset=tokenized_dataset[\"validation\"],\n",
    "    tokenizer=tokenizer,\n",
    "    data_collator=data_collator,\n",
    "    compute_metrics=compute_metrics,\n",
    "    optimizers=(optimizer, lr_scheduler)\n",
    ")"
   ]
  },
  {
   "cell_type": "code",
   "execution_count": 11,
   "metadata": {},
   "outputs": [
    {
     "name": "stderr",
     "output_type": "stream",
     "text": [
      "The following columns in the training set  don't have a corresponding argument in `BertForSequenceClassification.forward` and have been ignored: tokens. If tokens are not expected by `BertForSequenceClassification.forward`,  you can safely ignore this message.\n",
      "***** Running training *****\n",
      "  Num examples = 11023\n",
      "  Num Epochs = 2\n",
      "  Instantaneous batch size per device = 64\n",
      "  Total train batch size (w. parallel, distributed & accumulation) = 64\n",
      "  Gradient Accumulation steps = 1\n",
      "  Total optimization steps = 346\n"
     ]
    },
    {
     "data": {
      "text/html": [
       "\n",
       "    <div>\n",
       "      \n",
       "      <progress value='346' max='346' style='width:300px; height:20px; vertical-align: middle;'></progress>\n",
       "      [346/346 04:05, Epoch 2/2]\n",
       "    </div>\n",
       "    <table border=\"1\" class=\"dataframe\">\n",
       "  <thead>\n",
       " <tr style=\"text-align: left;\">\n",
       "      <th>Epoch</th>\n",
       "      <th>Training Loss</th>\n",
       "      <th>Validation Loss</th>\n",
       "      <th>F1</th>\n",
       "      <th>Accuracy</th>\n",
       "    </tr>\n",
       "  </thead>\n",
       "  <tbody>\n",
       "    <tr>\n",
       "      <td>1</td>\n",
       "      <td>0.541800</td>\n",
       "      <td>1.120173</td>\n",
       "      <td>0.550459</td>\n",
       "      <td>0.553185</td>\n",
       "    </tr>\n",
       "    <tr>\n",
       "      <td>2</td>\n",
       "      <td>0.471500</td>\n",
       "      <td>1.129940</td>\n",
       "      <td>0.539963</td>\n",
       "      <td>0.550057</td>\n",
       "    </tr>\n",
       "  </tbody>\n",
       "</table><p>"
      ],
      "text/plain": [
       "<IPython.core.display.HTML object>"
      ]
     },
     "metadata": {},
     "output_type": "display_data"
    },
    {
     "name": "stderr",
     "output_type": "stream",
     "text": [
      "Trainer is attempting to log a value of \"4.393010385683738e-05\" of type <class 'torch.Tensor'> for key \"train/learning_rate\" as a scalar. This invocation of Tensorboard's writer.add_scalar() is incorrect so we dropped this attribute.\n",
      "The following columns in the evaluation set  don't have a corresponding argument in `BertForSequenceClassification.forward` and have been ignored: tokens. If tokens are not expected by `BertForSequenceClassification.forward`,  you can safely ignore this message.\n",
      "***** Running Evaluation *****\n",
      "  Num examples = 3516\n",
      "  Batch size = 16\n",
      "Trainer is attempting to log a value of \"5.124660310684703e-05\" of type <class 'torch.Tensor'> for key \"train/learning_rate\" as a scalar. This invocation of Tensorboard's writer.add_scalar() is incorrect so we dropped this attribute.\n",
      "The following columns in the evaluation set  don't have a corresponding argument in `BertForSequenceClassification.forward` and have been ignored: tokens. If tokens are not expected by `BertForSequenceClassification.forward`,  you can safely ignore this message.\n",
      "***** Running Evaluation *****\n",
      "  Num examples = 3516\n",
      "  Batch size = 16\n",
      "\n",
      "\n",
      "Training completed. Do not forget to share your model on huggingface.co/models =)\n",
      "\n",
      "\n",
      "The following columns in the evaluation set  don't have a corresponding argument in `BertForSequenceClassification.forward` and have been ignored: tokens. If tokens are not expected by `BertForSequenceClassification.forward`,  you can safely ignore this message.\n",
      "***** Running Evaluation *****\n",
      "  Num examples = 3516\n",
      "  Batch size = 16\n"
     ]
    },
    {
     "data": {
      "text/html": [
       "\n",
       "    <div>\n",
       "      \n",
       "      <progress value='600' max='220' style='width:300px; height:20px; vertical-align: middle;'></progress>\n",
       "      [220/220 04:39]\n",
       "    </div>\n",
       "    "
      ],
      "text/plain": [
       "<IPython.core.display.HTML object>"
      ]
     },
     "metadata": {},
     "output_type": "display_data"
    },
    {
     "data": {
      "text/plain": [
       "{'eval_loss': 1.129940390586853,\n",
       " 'eval_f1': 0.539963188969443,\n",
       " 'eval_accuracy': 0.550056882821388,\n",
       " 'eval_runtime': 8.6836,\n",
       " 'eval_samples_per_second': 404.903,\n",
       " 'eval_steps_per_second': 25.335,\n",
       " 'epoch': 2.0}"
      ]
     },
     "execution_count": 11,
     "metadata": {},
     "output_type": "execute_result"
    }
   ],
   "source": [
    "trainer.train()\n",
    "trainer.evaluate()"
   ]
  },
  {
   "cell_type": "code",
   "execution_count": 17,
   "metadata": {},
   "outputs": [
    {
     "name": "stderr",
     "output_type": "stream",
     "text": [
      "The following columns in the test set  don't have a corresponding argument in `BertForSequenceClassification.forward` and have been ignored: tokens. If tokens are not expected by `BertForSequenceClassification.forward`,  you can safely ignore this message.\n",
      "***** Running Prediction *****\n",
      "  Num examples = 1507\n",
      "  Batch size = 16\n"
     ]
    },
    {
     "data": {
      "image/png": "[encoded data removed]",
      "text/plain": [
       "<Figure size 432x288 with 2 Axes>"
      ]
     },
     "metadata": {
      "needs_background": "light"
     },
     "output_type": "display_data"
    }
   ],
   "source": [
    "\n",
    "#ENCODING = {\"label\": {\"Value\": 0, \"Value(+)\": 1, \"Value(-)\": 2, \"Fact\": 3, \"Policy\": 4}}\n",
    "import torch\n",
    "import torch.nn.functional as F\n",
    "from sklearn import metrics\n",
    "from sklearn.metrics import confusion_matrix, ConfusionMatrixDisplay\n",
    "import matplotlib.pyplot as plt\n",
    "\n",
    "predictions=trainer.predict(test_dataset=tokenized_dataset[\"test\"])\n",
    "preds = np.argmax(predictions.predictions, axis=-1)\n",
    "confusion_matrix = metrics.confusion_matrix(tokenized_dataset['test']['label'], preds, labels=[0,1,2,3,4])\n",
    "disp = ConfusionMatrixDisplay(confusion_matrix=confusion_matrix,display_labels=[\"Value\",\"Value(+)\",\"Value(-)\",\"Fact\",\"Policy\"])\n",
    "disp.plot()\n",
    "#print(confusion_matrix)\n",
    "plt.show()"
   ]
  },
  {
   "cell_type": "code",
   "execution_count": 13,
   "metadata": {},
   "outputs": [
    {
     "data": {
      "text/plain": [
       "'\\n!pip install odfpy\\n!pip install ipywidgets widgetsnbextension pandas-profiling\\n!pip install datasets\\n!pip install transformers\\n!pip install torch torchvision torchaudio --extra-index-url https://download.pytorch.org/whl/cu110\\n'"
      ]
     },
     "execution_count": 13,
     "metadata": {},
     "output_type": "execute_result"
    }
   ],
   "source": [
    "\"\"\"\n",
    "!pip install odfpy\n",
    "!pip install ipywidgets widgetsnbextension pandas-profiling\n",
    "!pip install datasets\n",
    "!pip install transformers\n",
    "!pip install torch torchvision torchaudio --extra-index-url https://download.pytorch.org/whl/cu110\n",
    "\"\"\""
   ]
  },
  {
   "cell_type": "code",
   "execution_count": 14,
   "metadata": {},
   "outputs": [],
   "source": [
    "torch.cuda.empty_cache()\n",
    "#!nvidia-smi"
   ]
  }
 ],
 "metadata": {
  "kernelspec": {
   "display_name": "Python 3",
   "language": "python",
   "name": "python3"
  },
  "language_info": {
   "codemirror_mode": {
    "name": "ipython",
    "version": 3
   },
   "file_extension": ".py",
   "mimetype": "text/x-python",
   "name": "python",
   "nbconvert_exporter": "python",
   "pygments_lexer": "ipython3",
   "version": "3.6.9"
  }
 },
 "nbformat": 4,
 "nbformat_minor": 4
}
