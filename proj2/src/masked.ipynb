{
 "cells": [
  {
   "cell_type": "code",
   "execution_count": 1,
   "metadata": {
    "scrolled": true,
    "tags": []
   },
   "outputs": [],
   "source": [
    "import os\n",
    "import pandas as pd\n",
    "import numpy as np\n",
    "from transformers import AutoTokenizer, AutoModelForSequenceClassification\n",
    "from transformers import TrainingArguments, Trainer\n",
    "from transformers import DataCollatorWithPadding\n",
    "from transformers import AutoModelForMaskedLM\n",
    "from transformers import DataCollatorForLanguageModeling\n",
    "from transformers import AutoConfig\n",
    "from torch.utils.data import DataLoader\n",
    "\n",
    "import math\n",
    "import os\n",
    "from datasets import Dataset\n",
    "from datasets import DatasetDict\n",
    "from datasets import load_metric\n",
    "from sklearn.model_selection import train_test_split\n",
    "import json\n",
    "import torch"
   ]
  },
  {
   "cell_type": "code",
   "execution_count": 2,
   "metadata": {},
   "outputs": [],
   "source": [
    "NUM_LABELS = 5\n",
    "chunk_size = 128\n",
    "\n",
    "model_name = \"neuralmind/bert-base-portuguese-cased\""
   ]
  },
  {
   "cell_type": "code",
   "execution_count": 3,
   "metadata": {},
   "outputs": [],
   "source": [
    "ENCODING = {\"label\": {\"Value\": 0, \"Value(+)\": 1, \"Value(-)\": 2, \"Fact\": 3, \"Policy\": 4}}\n",
    "\n",
    "\n",
    "def create_index_column(df):\n",
    "    df[\"id\"] = df.index + 1\n",
    "\n",
    "def load_dataset():\n",
    "    \n",
    "    df_text = pd.DataFrame(pd.read_excel(os.path.join('./dataset', 'OpArticles.ods')))\n",
    "\n",
    "    df_adu = pd.DataFrame(\n",
    "        pd.read_excel(os.path.join('./dataset', 'aug.ods')))\n",
    "    \n",
    "    create_index_column(df_adu)\n",
    "    \n",
    "    return df_adu, df_text\n",
    "\n",
    "\n",
    "\n",
    "def remove_dataframe_rows_by_id(df_to_remove, list_ids_to_remove):\n",
    "    df_to_remove.set_index(\"id\", inplace=True)\n",
    "\n",
    "    df_to_remove.drop(list_ids_to_remove, inplace=True)\n",
    "\n",
    "    df_to_remove.reset_index(inplace=True)\n",
    "\n",
    "\n",
    "def split_train_test(df):\n",
    "  \n",
    "    train, test = train_test_split(df, test_size=0.2, random_state=42, stratify=df['label'])\n",
    "    \n",
    "    val, test = train_test_split(test, test_size=0.5, random_state=42, stratify=test['label'])\n",
    "\n",
    "    train = pd.DataFrame.from_dict(train)\n",
    "    \n",
    "    val = pd.DataFrame.from_dict(val)\n",
    "    \n",
    "    test = pd.DataFrame.from_dict(test)\n",
    "    \n",
    "    return train, val, test\n",
    "    \n",
    "def outlier_detection(df_adu):\n",
    "    results = {}\n",
    "    dict_collisions = {}\n",
    "    for _, row in df_adu.iterrows():\n",
    "        if row['article_id'] not in results.keys():\n",
    "            results[row['article_id']] = {\n",
    "                'A': [],\n",
    "                'B': [],\n",
    "                'C': [],\n",
    "                'D': []\n",
    "            }\n",
    "\n",
    "        if row['annotator'] == 'A':\n",
    "            results[row['article_id']]['A'].append({\n",
    "                'id': row['id'],\n",
    "                'ranges': row['ranges'],\n",
    "                'tokens': row['tokens'],\n",
    "                'label': row['label']\n",
    "            })\n",
    "\n",
    "        elif row['annotator'] == 'B':\n",
    "            results[row['article_id']]['B'].append({\n",
    "                'id': row['id'],\n",
    "                'ranges': row['ranges'],\n",
    "                'tokens': row['tokens'],\n",
    "                'label': row['label']\n",
    "            })\n",
    "\n",
    "        elif row['annotator'] == 'C':\n",
    "            results[row['article_id']]['C'].append({\n",
    "                'id': row['id'],\n",
    "                'ranges': row['ranges'],\n",
    "                'tokens': row['tokens'],\n",
    "                'label': row['label']\n",
    "            })\n",
    "\n",
    "        elif row['annotator'] == 'D':\n",
    "            results[row['article_id']]['D'].append({\n",
    "                'id': row['id'],\n",
    "                'ranges': row['ranges'],\n",
    "                'tokens': row['tokens'],\n",
    "                'label': row['label']\n",
    "            })\n",
    "\n",
    "    for article_id in results.keys():\n",
    "\n",
    "        for adu_A in results[article_id]['A']:\n",
    "            adu_matching(adu_A, results[article_id]['B'], results[article_id]['C'], results[article_id]['D'],\n",
    "                         dict_collisions)\n",
    "        for adu_B in results[article_id]['B']:\n",
    "            adu_matching(adu_B, results[article_id]['A'], results[article_id]['C'], results[article_id]['D'],\n",
    "                         dict_collisions)\n",
    "        for adu_C in results[article_id]['C']:\n",
    "            adu_matching(adu_C, results[article_id]['A'], results[article_id]['B'], results[article_id]['D'],\n",
    "                         dict_collisions)\n",
    "        for adu_D in results[article_id]['D']:\n",
    "            adu_matching(adu_D, results[article_id]['A'], results[article_id]['B'], results[article_id]['C'],\n",
    "                         dict_collisions)\n",
    "\n",
    "    return dict_collisions\n",
    "\n",
    "\n",
    "def adu_matching(adu, list_annotater_X, list_annotater_Y, list_annotater_Z, dict_collisions):\n",
    "    for iterator in [list_annotater_X, list_annotater_Y, list_annotater_Z]:\n",
    "        for elem in iterator:\n",
    "            if json.loads(adu['ranges'])[0][0] < json.loads(elem['ranges'])[0][0] < json.loads(adu['ranges'])[0][1]:\n",
    "                if adu['label'] != elem['label']:\n",
    "                    # print(f\"Disagreement between:\\n{adu['tokens']} \\n and \\n {elem['tokens']}\")\n",
    "                    if adu['id'] not in dict_collisions.keys():\n",
    "                        dict_collisions[adu['id']] = [elem['id']]\n",
    "                    else:\n",
    "                        dict_collisions[adu['id']].append(elem['id'])\n",
    "\n",
    "\n",
    "def deal_with_outliers(df_adu, dict_collisions, option='delete'):\n",
    "    # print(f\"Before:{df_adu.describe()}\")\n",
    "\n",
    "    if option == 'delete':\n",
    "        list_to_remove = []\n",
    "\n",
    "        for key_left in dict_collisions.keys():\n",
    "            list_to_remove.append(key_left)\n",
    "            for elem in dict_collisions[key_left]:\n",
    "                list_to_remove.append(elem)\n",
    "\n",
    "        remove_dataframe_rows_by_id(df_adu, list_to_remove)\n",
    "\n",
    "    elif option == 'majority':\n",
    "        list_to_remove = []\n",
    "        for key_left in dict_collisions.keys():\n",
    "            counters = {\n",
    "                'Fact': 0,\n",
    "                'Policy': 0,\n",
    "                'Value': 0,\n",
    "                'Value(+)': 0,\n",
    "                'Value(-)': 0,\n",
    "            }\n",
    "\n",
    "            majority_vote = None\n",
    "            number_votes = 0\n",
    "\n",
    "            adu = df_adu.loc[df_adu['id'] == key_left].iloc[0]\n",
    "\n",
    "            counters[adu['label']] += 1\n",
    "\n",
    "            for elem in dict_collisions[key_left]:\n",
    "                adu = df_adu.loc[df_adu['id'] == elem].iloc[0]\n",
    "                counters[adu['label']] += 1\n",
    "\n",
    "            for elem in counters.keys():\n",
    "                number_votes += counters[elem]\n",
    "\n",
    "            \"\"\"\n",
    "            Find the majority vote type\n",
    "            Majority_Vote returns a Valid Label\n",
    "            \"\"\"\n",
    "\n",
    "            for elem in counters.keys():\n",
    "                if counters[elem] / number_votes >= 0.5:\n",
    "                    majority_vote = elem\n",
    "                    break\n",
    "\n",
    "            if not majority_vote:\n",
    "                continue\n",
    "\n",
    "            if adu['label'] != majority_vote:\n",
    "                list_to_remove.append(adu['id'])\n",
    "\n",
    "            for elem in dict_collisions[key_left]:\n",
    "                elem_adu = df_adu.loc[df_adu['id'] == elem].iloc[0]\n",
    "                if elem_adu['label'] != majority_vote:\n",
    "                    list_to_remove.append(elem_adu['id'])\n",
    "\n",
    "        remove_dataframe_rows_by_id(df_adu, list_to_remove)\n",
    "\n",
    "    # print(f\"After:{df_adu.describe()}\")\n",
    "#ENCODING = {\"label\": {\"Value\": 0, \"Value(+)\": 1, \"Value(-)\": 2, \"Fact\": 3, \"Policy\": 4}}   \n",
    "def augment_train(df_train):\n",
    "    new_lines={\n",
    "        'tokens':[],\n",
    "        'label':[],\n",
    "    }\n",
    "    for _, row in df_train.iterrows():\n",
    "        #if row['label'] == 1 or row['label'] == 4:\n",
    "        if row['label'] == 4 :\n",
    "            correct_str = row['augmented']\n",
    "            \n",
    "            en_str = row['en']\n",
    "            sp_str = row['sp']\n",
    "            \n",
    "            if not row['tokens'][0].isupper():\n",
    "                correct_str = correct_str[0].lower() + correct_str[1:]\n",
    "                en_str = en_str[0].lower() + en_str[1:]\n",
    "                sp_str = sp_str[0].lower() + sp_str[1:]\n",
    "                        \n",
    "            new_lines['tokens'].append(correct_str)\n",
    "            new_lines['label'].append(row['label'])\n",
    "            #new_lines['tokens'].append(en_str)\n",
    "            #new_lines['label'].append(row['label'])\n",
    "            #new_lines['tokens'].append(sp_str)\n",
    "            #new_lines['label'].append(row['label'])\n",
    "        \n",
    "    df = pd.DataFrame(new_lines)\n",
    "    \n",
    "    return df_train.append(df, ignore_index = True)"
   ]
  },
  {
   "cell_type": "code",
   "execution_count": 4,
   "metadata": {},
   "outputs": [],
   "source": [
    "def load_data_for_masking(df):\n",
    "    \n",
    "    df.drop(columns=['article_id', 'title', 'authors', 'meta_description', 'topics', 'keywords', 'publish_date',\n",
    "                     'url_canonical'], inplace=True)\n",
    "    \n",
    "    df.rename(columns={'body': 'tokens'}, inplace=True)\n",
    "\n",
    "    dataset = Dataset.from_pandas(df)\n",
    "\n",
    "    train_test = dataset.train_test_split(test_size=0.2)\n",
    "\n",
    "    \n",
    "    train_valid_test_dataset = DatasetDict({\n",
    "        'train': train_test['train'],\n",
    "        'test': train_test['test'],        \n",
    "    })\n",
    "\n",
    "    return train_valid_test_dataset\n",
    "\n",
    "def group_texts(examples):\n",
    "    # Concatenate all texts\n",
    "    concatenated_examples = {k: sum(examples[k], []) for k in examples.keys()}\n",
    "    # Compute length of concatenated texts\n",
    "    total_length = len(concatenated_examples[list(examples.keys())[0]])\n",
    "    # We drop the last chunk if it's smaller than chunk_size\n",
    "    total_length = (total_length // chunk_size) * chunk_size\n",
    "    # Split by chunks of max_len\n",
    "    result = {\n",
    "        k: [t[i : i + chunk_size] for i in range(0, total_length, chunk_size)]\n",
    "        for k, t in concatenated_examples.items()\n",
    "    }\n",
    "    # Create a new labels column\n",
    "    result[\"labels\"] = result[\"input_ids\"].copy()\n",
    "    return result\n",
    "\n"
   ]
  },
  {
   "cell_type": "code",
   "execution_count": 5,
   "metadata": {},
   "outputs": [],
   "source": [
    "def tokenize_function_2(examples):\n",
    "    result = tokenizer(examples[\"tokens\"])\n",
    "    if tokenizer.is_fast:\n",
    "        result[\"word_ids\"] = [result.word_ids(i) for i in range(len(result[\"input_ids\"]))]\n",
    "    return result\n",
    "\n",
    "def tokenize_function(example):\n",
    "    return tokenizer(example[\"tokens\"], padding=True)"
   ]
  },
  {
   "cell_type": "code",
   "execution_count": 6,
   "metadata": {},
   "outputs": [],
   "source": [
    "df_adu, _ = load_dataset()\n",
    "\n",
    "train, val, test = split_train_test(df_adu)\n",
    "\n",
    "dict_collisions = outlier_detection(train)\n",
    "\n",
    "deal_with_outliers(train, dict_collisions, 'delete')\n",
    "\n",
    "train.drop(columns=['article_id', 'annotator', 'node', 'ranges','id'], inplace = True)\n",
    "train.replace(ENCODING, inplace=True)\n",
    "train.reset_index(drop=True, inplace=True)\n",
    "\n",
    "val.drop(columns=['article_id', 'annotator', 'node', 'ranges','id'], inplace = True)\n",
    "val.replace(ENCODING, inplace=True)\n",
    "val.reset_index(drop=True, inplace=True)\n",
    "\n",
    "test.drop(columns=['article_id', 'annotator', 'node', 'ranges','id'], inplace = True)\n",
    "test.replace(ENCODING, inplace=True)\n",
    "test.reset_index(drop=True, inplace=True)\n",
    "\n",
    "train = augment_train(train)"
   ]
  },
  {
   "cell_type": "code",
   "execution_count": 7,
   "metadata": {},
   "outputs": [],
   "source": [
    "def task_2():\n",
    "    \n",
    "    _, df_text = load_dataset()\n",
    "\n",
    "    \n",
    "    model = AutoModelForMaskedLM.from_pretrained(model_name, num_labels = NUM_LABELS)\n",
    "    \n",
    "    dataset = load_data_for_masking(df_text)\n",
    "\n",
    "    tokenized_datasets = dataset.map(\n",
    "        tokenize_function_2, batched=True, remove_columns=[\"tokens\"]\n",
    "    )\n",
    "\n",
    "    lm_datasets = tokenized_datasets.map(group_texts, batched=True)\n",
    "\n",
    "    data_collator = DataCollatorForLanguageModeling(tokenizer=tokenizer, mlm_probability=0.15)\n",
    "    \n",
    "    max_layer = 11\n",
    "    \n",
    "    for name, param in model.named_parameters():\n",
    "        for elem in range(max_layer-2):\n",
    "            if name.startswith(f\"bert.encoder.layer.{elem}.\"): # choose whatever you like here\n",
    "                param.requires_grad = False\n",
    "    #batch_size = 64\n",
    "    # Show the training loss with every epoch\n",
    "    #logging_steps = len(lm_datasets[\"train\"]) // batch_size\n",
    "\n",
    "    training_args = TrainingArguments(\n",
    "        output_dir=f\"{model_name}-finetuned-imdb\",        \n",
    "        evaluation_strategy=\"epoch\",\n",
    "        num_train_epochs=3,\n",
    "        fp16=True,\n",
    "        save_strategy='no'\n",
    "    )\n",
    "\n",
    "\n",
    "    trainer = Trainer(\n",
    "        model=model,\n",
    "        args=training_args,\n",
    "        train_dataset=lm_datasets[\"train\"],\n",
    "        eval_dataset=lm_datasets[\"test\"],\n",
    "        data_collator=data_collator,\n",
    "    )\n",
    "\n",
    "\n",
    "    eval_results = trainer.evaluate()\n",
    "    print(f\">>> Perplexity Before: {math.exp(eval_results['eval_loss']):.2f}\")\n",
    "\n",
    "    trainer.train()\n",
    "\n",
    "    eval_results = trainer.evaluate()\n",
    "    print(f\">>> Perplexity After: {math.exp(eval_results['eval_loss']):.2f}\")\n",
    "    \n",
    "    \n",
    "    \n",
    "    for name, param in model.named_parameters():\n",
    "        if name.startswith(f\"bert.encoder.layer.{elem}.\"): # choose whatever you like here\n",
    "            param.requires_grad = True\n",
    "    \n",
    "    #batch_size = 64\n",
    "    # Show the training loss with every epoch\n",
    "    #logging_steps = len(lm_datasets[\"train\"]) // batch_size\n",
    "\n",
    "    training_args = TrainingArguments(\n",
    "        output_dir=f\"{model_name}-finetuned-imdb\",        \n",
    "        evaluation_strategy=\"epoch\",\n",
    "        num_train_epochs=2,\n",
    "        fp16=True,\n",
    "        save_strategy='no'\n",
    "    )\n",
    "\n",
    "\n",
    "    trainer = Trainer(\n",
    "        model=model,\n",
    "        args=training_args,\n",
    "        train_dataset=lm_datasets[\"train\"],\n",
    "        eval_dataset=lm_datasets[\"test\"],\n",
    "        data_collator=data_collator,\n",
    "    )\n",
    "\n",
    "\n",
    "    eval_results = trainer.evaluate()\n",
    "    print(f\">>> Perplexity Before: {math.exp(eval_results['eval_loss']):.2f}\")\n",
    "\n",
    "    trainer.train()\n",
    "\n",
    "    eval_results = trainer.evaluate()\n",
    "    print(f\">>> Perplexity After: {math.exp(eval_results['eval_loss']):.2f}\")\n",
    "    \n",
    "    \n",
    "    config = AutoConfig.from_pretrained(model_name)\n",
    "    config.num_labels = NUM_LABELS\n",
    "    model = AutoModelForSequenceClassification.from_config(config)\n",
    "    \n",
    "    return model\n"
   ]
  },
  {
   "cell_type": "code",
   "execution_count": 8,
   "metadata": {},
   "outputs": [
    {
     "name": "stderr",
     "output_type": "stream",
     "text": [
      "Some weights of the model checkpoint at neuralmind/bert-base-portuguese-cased were not used when initializing BertForMaskedLM: ['cls.seq_relationship.bias', 'cls.seq_relationship.weight']\n",
      "- This IS expected if you are initializing BertForMaskedLM from the checkpoint of a model trained on another task or with another architecture (e.g. initializing a BertForSequenceClassification model from a BertForPreTraining model).\n",
      "- This IS NOT expected if you are initializing BertForMaskedLM from the checkpoint of a model that you expect to be exactly identical (initializing a BertForSequenceClassification model from a BertForSequenceClassification model).\n"
     ]
    },
    {
     "data": {
      "application/vnd.jupyter.widget-view+json": {
       "model_id": "6f89729b7eed4f03ad2aa346756b630c",
       "version_major": 2,
       "version_minor": 0
      },
      "text/plain": [
       "  0%|          | 0/1 [00:00<?, ?ba/s]"
      ]
     },
     "metadata": {},
     "output_type": "display_data"
    },
    {
     "data": {
      "application/vnd.jupyter.widget-view+json": {
       "model_id": "9942fa5bb64b4c1f82627908cb05c344",
       "version_major": 2,
       "version_minor": 0
      },
      "text/plain": [
       "  0%|          | 0/1 [00:00<?, ?ba/s]"
      ]
     },
     "metadata": {},
     "output_type": "display_data"
    },
    {
     "data": {
      "application/vnd.jupyter.widget-view+json": {
       "model_id": "72855dce311e41ea8ac08bc1bf09e375",
       "version_major": 2,
       "version_minor": 0
      },
      "text/plain": [
       "  0%|          | 0/1 [00:00<?, ?ba/s]"
      ]
     },
     "metadata": {},
     "output_type": "display_data"
    },
    {
     "data": {
      "application/vnd.jupyter.widget-view+json": {
       "model_id": "e977b772bb4440a3b1af3c4cbbf3b7d2",
       "version_major": 2,
       "version_minor": 0
      },
      "text/plain": [
       "  0%|          | 0/1 [00:00<?, ?ba/s]"
      ]
     },
     "metadata": {},
     "output_type": "display_data"
    },
    {
     "name": "stderr",
     "output_type": "stream",
     "text": [
      "/usr/local/lib/python3.6/dist-packages/setuptools/distutils_patch.py:26: UserWarning: Distutils was imported before Setuptools. This usage is discouraged and may exhibit undesirable behaviors or errors. Please use Setuptools' objects directly or at least import Setuptools first.\n",
      "  \"Distutils was imported before Setuptools. This usage is discouraged \"\n",
      "Using amp half precision backend\n",
      "The following columns in the evaluation set  don't have a corresponding argument in `BertForMaskedLM.forward` and have been ignored: word_ids. If word_ids are not expected by `BertForMaskedLM.forward`,  you can safely ignore this message.\n",
      "***** Running Evaluation *****\n",
      "  Num examples = 597\n",
      "  Batch size = 8\n"
     ]
    },
    {
     "data": {
      "text/html": [
       "\n",
       "    <div>\n",
       "      \n",
       "      <progress value='150' max='75' style='width:300px; height:20px; vertical-align: middle;'></progress>\n",
       "      [75/75 00:41]\n",
       "    </div>\n",
       "    "
      ],
      "text/plain": [
       "<IPython.core.display.HTML object>"
      ]
     },
     "metadata": {},
     "output_type": "display_data"
    },
    {
     "name": "stderr",
     "output_type": "stream",
     "text": [
      "The following columns in the training set  don't have a corresponding argument in `BertForMaskedLM.forward` and have been ignored: word_ids. If word_ids are not expected by `BertForMaskedLM.forward`,  you can safely ignore this message.\n",
      "/usr/local/lib/python3.6/dist-packages/transformers/optimization.py:309: FutureWarning: This implementation of AdamW is deprecated and will be removed in a future version. Use the PyTorch implementation torch.optim.AdamW instead, or set `no_deprecation_warning=True` to disable this warning\n",
      "  FutureWarning,\n",
      "***** Running training *****\n",
      "  Num examples = 2662\n",
      "  Num Epochs = 3\n",
      "  Instantaneous batch size per device = 8\n",
      "  Total train batch size (w. parallel, distributed & accumulation) = 8\n",
      "  Gradient Accumulation steps = 1\n",
      "  Total optimization steps = 999\n"
     ]
    },
    {
     "name": "stdout",
     "output_type": "stream",
     "text": [
      ">>> Perplexity Before: 11.08\n"
     ]
    },
    {
     "data": {
      "text/html": [
       "\n",
       "    <div>\n",
       "      \n",
       "      <progress value='999' max='999' style='width:300px; height:20px; vertical-align: middle;'></progress>\n",
       "      [999/999 01:53, Epoch 3/3]\n",
       "    </div>\n",
       "    <table border=\"1\" class=\"dataframe\">\n",
       "  <thead>\n",
       " <tr style=\"text-align: left;\">\n",
       "      <th>Epoch</th>\n",
       "      <th>Training Loss</th>\n",
       "      <th>Validation Loss</th>\n",
       "    </tr>\n",
       "  </thead>\n",
       "  <tbody>\n",
       "    <tr>\n",
       "      <td>1</td>\n",
       "      <td>No log</td>\n",
       "      <td>1.888990</td>\n",
       "    </tr>\n",
       "    <tr>\n",
       "      <td>2</td>\n",
       "      <td>2.059500</td>\n",
       "      <td>1.802909</td>\n",
       "    </tr>\n",
       "    <tr>\n",
       "      <td>3</td>\n",
       "      <td>2.059500</td>\n",
       "      <td>1.801823</td>\n",
       "    </tr>\n",
       "  </tbody>\n",
       "</table><p>"
      ],
      "text/plain": [
       "<IPython.core.display.HTML object>"
      ]
     },
     "metadata": {},
     "output_type": "display_data"
    },
    {
     "name": "stderr",
     "output_type": "stream",
     "text": [
      "The following columns in the evaluation set  don't have a corresponding argument in `BertForMaskedLM.forward` and have been ignored: word_ids. If word_ids are not expected by `BertForMaskedLM.forward`,  you can safely ignore this message.\n",
      "***** Running Evaluation *****\n",
      "  Num examples = 597\n",
      "  Batch size = 8\n",
      "The following columns in the evaluation set  don't have a corresponding argument in `BertForMaskedLM.forward` and have been ignored: word_ids. If word_ids are not expected by `BertForMaskedLM.forward`,  you can safely ignore this message.\n",
      "***** Running Evaluation *****\n",
      "  Num examples = 597\n",
      "  Batch size = 8\n",
      "The following columns in the evaluation set  don't have a corresponding argument in `BertForMaskedLM.forward` and have been ignored: word_ids. If word_ids are not expected by `BertForMaskedLM.forward`,  you can safely ignore this message.\n",
      "***** Running Evaluation *****\n",
      "  Num examples = 597\n",
      "  Batch size = 8\n",
      "\n",
      "\n",
      "Training completed. Do not forget to share your model on huggingface.co/models =)\n",
      "\n",
      "\n",
      "The following columns in the evaluation set  don't have a corresponding argument in `BertForMaskedLM.forward` and have been ignored: word_ids. If word_ids are not expected by `BertForMaskedLM.forward`,  you can safely ignore this message.\n",
      "***** Running Evaluation *****\n",
      "  Num examples = 597\n",
      "  Batch size = 8\n"
     ]
    },
    {
     "data": {
      "text/html": [
       "\n",
       "    <div>\n",
       "      \n",
       "      <progress value='75' max='75' style='width:300px; height:20px; vertical-align: middle;'></progress>\n",
       "      [75/75 00:02]\n",
       "    </div>\n",
       "    "
      ],
      "text/plain": [
       "<IPython.core.display.HTML object>"
      ]
     },
     "metadata": {},
     "output_type": "display_data"
    },
    {
     "name": "stderr",
     "output_type": "stream",
     "text": [
      "PyTorch: setting up devices\n",
      "The default value for the training argument `--report_to` will change in v5 (from all installed integrations to none). In v5, you will need to use `--report_to all` to get the same behavior as now. You should start updating your code and make this info disappear :-).\n",
      "Using amp half precision backend\n",
      "The following columns in the evaluation set  don't have a corresponding argument in `BertForMaskedLM.forward` and have been ignored: word_ids. If word_ids are not expected by `BertForMaskedLM.forward`,  you can safely ignore this message.\n",
      "***** Running Evaluation *****\n",
      "  Num examples = 597\n",
      "  Batch size = 8\n"
     ]
    },
    {
     "name": "stdout",
     "output_type": "stream",
     "text": [
      ">>> Perplexity After: 6.22\n"
     ]
    },
    {
     "data": {
      "text/html": [
       "\n",
       "    <div>\n",
       "      \n",
       "      <progress value='150' max='75' style='width:300px; height:20px; vertical-align: middle;'></progress>\n",
       "      [75/75 00:41]\n",
       "    </div>\n",
       "    "
      ],
      "text/plain": [
       "<IPython.core.display.HTML object>"
      ]
     },
     "metadata": {},
     "output_type": "display_data"
    },
    {
     "name": "stderr",
     "output_type": "stream",
     "text": [
      "The following columns in the training set  don't have a corresponding argument in `BertForMaskedLM.forward` and have been ignored: word_ids. If word_ids are not expected by `BertForMaskedLM.forward`,  you can safely ignore this message.\n",
      "***** Running training *****\n",
      "  Num examples = 2662\n",
      "  Num Epochs = 2\n",
      "  Instantaneous batch size per device = 8\n",
      "  Total train batch size (w. parallel, distributed & accumulation) = 8\n",
      "  Gradient Accumulation steps = 1\n",
      "  Total optimization steps = 666\n"
     ]
    },
    {
     "name": "stdout",
     "output_type": "stream",
     "text": [
      ">>> Perplexity Before: 5.98\n"
     ]
    },
    {
     "data": {
      "text/html": [
       "\n",
       "    <div>\n",
       "      \n",
       "      <progress value='666' max='666' style='width:300px; height:20px; vertical-align: middle;'></progress>\n",
       "      [666/666 01:17, Epoch 2/2]\n",
       "    </div>\n",
       "    <table border=\"1\" class=\"dataframe\">\n",
       "  <thead>\n",
       " <tr style=\"text-align: left;\">\n",
       "      <th>Epoch</th>\n",
       "      <th>Training Loss</th>\n",
       "      <th>Validation Loss</th>\n",
       "    </tr>\n",
       "  </thead>\n",
       "  <tbody>\n",
       "    <tr>\n",
       "      <td>1</td>\n",
       "      <td>No log</td>\n",
       "      <td>1.972661</td>\n",
       "    </tr>\n",
       "    <tr>\n",
       "      <td>2</td>\n",
       "      <td>1.328300</td>\n",
       "      <td>1.874308</td>\n",
       "    </tr>\n",
       "  </tbody>\n",
       "</table><p>"
      ],
      "text/plain": [
       "<IPython.core.display.HTML object>"
      ]
     },
     "metadata": {},
     "output_type": "display_data"
    },
    {
     "name": "stderr",
     "output_type": "stream",
     "text": [
      "The following columns in the evaluation set  don't have a corresponding argument in `BertForMaskedLM.forward` and have been ignored: word_ids. If word_ids are not expected by `BertForMaskedLM.forward`,  you can safely ignore this message.\n",
      "***** Running Evaluation *****\n",
      "  Num examples = 597\n",
      "  Batch size = 8\n",
      "The following columns in the evaluation set  don't have a corresponding argument in `BertForMaskedLM.forward` and have been ignored: word_ids. If word_ids are not expected by `BertForMaskedLM.forward`,  you can safely ignore this message.\n",
      "***** Running Evaluation *****\n",
      "  Num examples = 597\n",
      "  Batch size = 8\n",
      "\n",
      "\n",
      "Training completed. Do not forget to share your model on huggingface.co/models =)\n",
      "\n",
      "\n",
      "The following columns in the evaluation set  don't have a corresponding argument in `BertForMaskedLM.forward` and have been ignored: word_ids. If word_ids are not expected by `BertForMaskedLM.forward`,  you can safely ignore this message.\n",
      "***** Running Evaluation *****\n",
      "  Num examples = 597\n",
      "  Batch size = 8\n"
     ]
    },
    {
     "data": {
      "text/html": [
       "\n",
       "    <div>\n",
       "      \n",
       "      <progress value='75' max='75' style='width:300px; height:20px; vertical-align: middle;'></progress>\n",
       "      [75/75 00:02]\n",
       "    </div>\n",
       "    "
      ],
      "text/plain": [
       "<IPython.core.display.HTML object>"
      ]
     },
     "metadata": {},
     "output_type": "display_data"
    },
    {
     "name": "stderr",
     "output_type": "stream",
     "text": [
      "loading configuration file https://huggingface.co/neuralmind/bert-base-portuguese-cased/resolve/main/config.json from cache at /root/.cache/huggingface/transformers/e716e2151985ba669e7197b64cdde2552acee146494d40ffaf0688a3f152e6ed.18a0b8b86f3ebd4c8a1d8d6199178feae9971ff5420f1d12f0ed8326ffdff716\n",
      "Model config BertConfig {\n",
      "  \"_name_or_path\": \"neuralmind/bert-base-portuguese-cased\",\n",
      "  \"architectures\": [\n",
      "    \"BertForMaskedLM\"\n",
      "  ],\n",
      "  \"attention_probs_dropout_prob\": 0.1,\n",
      "  \"classifier_dropout\": null,\n",
      "  \"directionality\": \"bidi\",\n",
      "  \"hidden_act\": \"gelu\",\n",
      "  \"hidden_dropout_prob\": 0.1,\n",
      "  \"hidden_size\": 768,\n",
      "  \"initializer_range\": 0.02,\n",
      "  \"intermediate_size\": 3072,\n",
      "  \"layer_norm_eps\": 1e-12,\n",
      "  \"max_position_embeddings\": 512,\n",
      "  \"model_type\": \"bert\",\n",
      "  \"num_attention_heads\": 12,\n",
      "  \"num_hidden_layers\": 12,\n",
      "  \"output_past\": true,\n",
      "  \"pad_token_id\": 0,\n",
      "  \"pooler_fc_size\": 768,\n",
      "  \"pooler_num_attention_heads\": 12,\n",
      "  \"pooler_num_fc_layers\": 3,\n",
      "  \"pooler_size_per_head\": 128,\n",
      "  \"pooler_type\": \"first_token_transform\",\n",
      "  \"position_embedding_type\": \"absolute\",\n",
      "  \"transformers_version\": \"4.18.0\",\n",
      "  \"type_vocab_size\": 2,\n",
      "  \"use_cache\": true,\n",
      "  \"vocab_size\": 29794\n",
      "}\n",
      "\n"
     ]
    },
    {
     "name": "stdout",
     "output_type": "stream",
     "text": [
      ">>> Perplexity After: 6.67\n"
     ]
    },
    {
     "data": {
      "application/vnd.jupyter.widget-view+json": {
       "model_id": "067e3747b9f141f4b4ab1880de4d3f11",
       "version_major": 2,
       "version_minor": 0
      },
      "text/plain": [
       "  0%|          | 0/13 [00:00<?, ?ba/s]"
      ]
     },
     "metadata": {},
     "output_type": "display_data"
    },
    {
     "data": {
      "application/vnd.jupyter.widget-view+json": {
       "model_id": "ec56cfbaae1840e9a729c9c8ffa0e2f2",
       "version_major": 2,
       "version_minor": 0
      },
      "text/plain": [
       "  0%|          | 0/2 [00:00<?, ?ba/s]"
      ]
     },
     "metadata": {},
     "output_type": "display_data"
    },
    {
     "data": {
      "application/vnd.jupyter.widget-view+json": {
       "model_id": "a7147930659744f29f07c8218659b475",
       "version_major": 2,
       "version_minor": 0
      },
      "text/plain": [
       "  0%|          | 0/2 [00:00<?, ?ba/s]"
      ]
     },
     "metadata": {},
     "output_type": "display_data"
    }
   ],
   "source": [
    "train_valid_test_dataset = DatasetDict({\n",
    "    'train': Dataset.from_pandas(train),\n",
    "    'validation': Dataset.from_pandas(val),\n",
    "    'test': Dataset.from_pandas(test)\n",
    "})\n",
    "\n",
    "\n",
    "tokenizer = AutoTokenizer.from_pretrained(model_name, do_lower_case=False)\n",
    "\n",
    "model = task_2()\n",
    "\n",
    "tokenized_dataset = train_valid_test_dataset.map(tokenize_function, batched=True)\n",
    "\n",
    "max_layer = 11\n",
    "#max_layer = 24"
   ]
  },
  {
   "cell_type": "code",
   "execution_count": 9,
   "metadata": {},
   "outputs": [
    {
     "name": "stderr",
     "output_type": "stream",
     "text": [
      "PyTorch: setting up devices\n",
      "The default value for the training argument `--report_to` will change in v5 (from all installed integrations to none). In v5, you will need to use `--report_to all` to get the same behavior as now. You should start updating your code and make this info disappear :-).\n",
      "Using amp half precision backend\n"
     ]
    }
   ],
   "source": [
    "#ENCODING = {\"label\": {\"Value\": 0, \"Value(+)\": 1, \"Value(-)\": 2, \"Fact\": 3, \"Policy\": 4}}\n",
    "from torch import nn\n",
    "from transformers import Trainer\n",
    "\n",
    "class CustomTrainer(Trainer):\n",
    "    def compute_loss(self, model, inputs, return_outputs=False):\n",
    "        labels = inputs.get(\"labels\")\n",
    "        # forward pass\n",
    "        outputs = model(**inputs)\n",
    "        logits = outputs.get('logits')\n",
    "        # compute custom loss\n",
    "        loss_fct = nn.CrossEntropyLoss()\n",
    "        #loss_fct = nn.CrossEntropyLoss(weight=torch.cuda.FloatTensor([0.11, 0.92, 0.52, 0.485, 0.97]))\n",
    "        loss = loss_fct(logits.view(-1, self.model.config.num_labels), labels.view(-1))\n",
    "        return (loss, outputs) if return_outputs else loss\n",
    "\n",
    "\n",
    "\n",
    "def compute_metrics(eval_pred):\n",
    "    metric = load_metric(\"f1\")\n",
    "    logits, labels = eval_pred\n",
    "    predictions = np.argmax(logits, axis=-1)\n",
    "    f1_val = metric.compute(predictions=predictions, references=labels, average='macro')\n",
    "\n",
    "    metric = load_metric(\"accuracy\")\n",
    "    acc_val = metric.compute(predictions=predictions, references=labels)\n",
    "\n",
    "    return {\n",
    "        'f1':f1_val['f1'],\n",
    "        'accuracy':acc_val['accuracy'],\n",
    "    }\n",
    "\n",
    "for name, param in model.named_parameters():\n",
    "    for elem in range(max_layer-5):\n",
    "        if name.startswith(f\"bert.encoder.layer.{elem}.\"): # choose whatever you like here\n",
    "            param.requires_grad = False\n",
    "\n",
    "training_args = TrainingArguments(\n",
    "    output_dir=\"./results\",\n",
    "    per_device_train_batch_size=64,\n",
    "    per_device_eval_batch_size=64,\n",
    "    num_train_epochs=7,\n",
    "    logging_strategy=\"epoch\",\n",
    "    evaluation_strategy=\"epoch\", # run validation at the end of each epoch\n",
    "    save_strategy=\"no\",\n",
    "    fp16=True,\n",
    ")\n",
    "\n",
    "data_collator = DataCollatorWithPadding(tokenizer=tokenizer)\n",
    "\n",
    "trainer = CustomTrainer(\n",
    "    model=model,\n",
    "    args=training_args,\n",
    "    train_dataset=tokenized_dataset[\"train\"],\n",
    "    eval_dataset=tokenized_dataset[\"validation\"],\n",
    "    tokenizer=tokenizer,\n",
    "    data_collator=data_collator,\n",
    "    compute_metrics=compute_metrics\n",
    ")"
   ]
  },
  {
   "cell_type": "code",
   "execution_count": 10,
   "metadata": {},
   "outputs": [
    {
     "name": "stderr",
     "output_type": "stream",
     "text": [
      "The following columns in the training set  don't have a corresponding argument in `BertForSequenceClassification.forward` and have been ignored: tokens, augmented, en, sp. If tokens, augmented, en, sp are not expected by `BertForSequenceClassification.forward`,  you can safely ignore this message.\n",
      "***** Running training *****\n",
      "  Num examples = 12390\n",
      "  Num Epochs = 7\n",
      "  Instantaneous batch size per device = 64\n",
      "  Total train batch size (w. parallel, distributed & accumulation) = 64\n",
      "  Gradient Accumulation steps = 1\n",
      "  Total optimization steps = 1358\n"
     ]
    },
    {
     "data": {
      "text/html": [
       "\n",
       "    <div>\n",
       "      \n",
       "      <progress value='1358' max='1358' style='width:300px; height:20px; vertical-align: middle;'></progress>\n",
       "      [1358/1358 14:07, Epoch 7/7]\n",
       "    </div>\n",
       "    <table border=\"1\" class=\"dataframe\">\n",
       "  <thead>\n",
       " <tr style=\"text-align: left;\">\n",
       "      <th>Epoch</th>\n",
       "      <th>Training Loss</th>\n",
       "      <th>Validation Loss</th>\n",
       "      <th>F1</th>\n",
       "      <th>Accuracy</th>\n",
       "    </tr>\n",
       "  </thead>\n",
       "  <tbody>\n",
       "    <tr>\n",
       "      <td>1</td>\n",
       "      <td>1.397000</td>\n",
       "      <td>1.340892</td>\n",
       "      <td>0.130435</td>\n",
       "      <td>0.483871</td>\n",
       "    </tr>\n",
       "    <tr>\n",
       "      <td>2</td>\n",
       "      <td>1.231300</td>\n",
       "      <td>1.289472</td>\n",
       "      <td>0.323330</td>\n",
       "      <td>0.438471</td>\n",
       "    </tr>\n",
       "    <tr>\n",
       "      <td>3</td>\n",
       "      <td>1.014000</td>\n",
       "      <td>1.244484</td>\n",
       "      <td>0.402697</td>\n",
       "      <td>0.496416</td>\n",
       "    </tr>\n",
       "    <tr>\n",
       "      <td>4</td>\n",
       "      <td>0.856500</td>\n",
       "      <td>1.249048</td>\n",
       "      <td>0.442719</td>\n",
       "      <td>0.523297</td>\n",
       "    </tr>\n",
       "    <tr>\n",
       "      <td>5</td>\n",
       "      <td>0.747900</td>\n",
       "      <td>1.330831</td>\n",
       "      <td>0.450050</td>\n",
       "      <td>0.502389</td>\n",
       "    </tr>\n",
       "    <tr>\n",
       "      <td>6</td>\n",
       "      <td>0.660900</td>\n",
       "      <td>1.396428</td>\n",
       "      <td>0.448658</td>\n",
       "      <td>0.503584</td>\n",
       "    </tr>\n",
       "    <tr>\n",
       "      <td>7</td>\n",
       "      <td>0.604100</td>\n",
       "      <td>1.461649</td>\n",
       "      <td>0.444599</td>\n",
       "      <td>0.495221</td>\n",
       "    </tr>\n",
       "  </tbody>\n",
       "</table><p>"
      ],
      "text/plain": [
       "<IPython.core.display.HTML object>"
      ]
     },
     "metadata": {},
     "output_type": "display_data"
    },
    {
     "name": "stderr",
     "output_type": "stream",
     "text": [
      "The following columns in the evaluation set  don't have a corresponding argument in `BertForSequenceClassification.forward` and have been ignored: tokens, augmented, en, sp. If tokens, augmented, en, sp are not expected by `BertForSequenceClassification.forward`,  you can safely ignore this message.\n",
      "***** Running Evaluation *****\n",
      "  Num examples = 1674\n",
      "  Batch size = 64\n",
      "The following columns in the evaluation set  don't have a corresponding argument in `BertForSequenceClassification.forward` and have been ignored: tokens, augmented, en, sp. If tokens, augmented, en, sp are not expected by `BertForSequenceClassification.forward`,  you can safely ignore this message.\n",
      "***** Running Evaluation *****\n",
      "  Num examples = 1674\n",
      "  Batch size = 64\n",
      "The following columns in the evaluation set  don't have a corresponding argument in `BertForSequenceClassification.forward` and have been ignored: tokens, augmented, en, sp. If tokens, augmented, en, sp are not expected by `BertForSequenceClassification.forward`,  you can safely ignore this message.\n",
      "***** Running Evaluation *****\n",
      "  Num examples = 1674\n",
      "  Batch size = 64\n",
      "The following columns in the evaluation set  don't have a corresponding argument in `BertForSequenceClassification.forward` and have been ignored: tokens, augmented, en, sp. If tokens, augmented, en, sp are not expected by `BertForSequenceClassification.forward`,  you can safely ignore this message.\n",
      "***** Running Evaluation *****\n",
      "  Num examples = 1674\n",
      "  Batch size = 64\n",
      "The following columns in the evaluation set  don't have a corresponding argument in `BertForSequenceClassification.forward` and have been ignored: tokens, augmented, en, sp. If tokens, augmented, en, sp are not expected by `BertForSequenceClassification.forward`,  you can safely ignore this message.\n",
      "***** Running Evaluation *****\n",
      "  Num examples = 1674\n",
      "  Batch size = 64\n",
      "The following columns in the evaluation set  don't have a corresponding argument in `BertForSequenceClassification.forward` and have been ignored: tokens, augmented, en, sp. If tokens, augmented, en, sp are not expected by `BertForSequenceClassification.forward`,  you can safely ignore this message.\n",
      "***** Running Evaluation *****\n",
      "  Num examples = 1674\n",
      "  Batch size = 64\n",
      "The following columns in the evaluation set  don't have a corresponding argument in `BertForSequenceClassification.forward` and have been ignored: tokens, augmented, en, sp. If tokens, augmented, en, sp are not expected by `BertForSequenceClassification.forward`,  you can safely ignore this message.\n",
      "***** Running Evaluation *****\n",
      "  Num examples = 1674\n",
      "  Batch size = 64\n",
      "\n",
      "\n",
      "Training completed. Do not forget to share your model on huggingface.co/models =)\n",
      "\n",
      "\n",
      "The following columns in the evaluation set  don't have a corresponding argument in `BertForSequenceClassification.forward` and have been ignored: tokens, augmented, en, sp. If tokens, augmented, en, sp are not expected by `BertForSequenceClassification.forward`,  you can safely ignore this message.\n",
      "***** Running Evaluation *****\n",
      "  Num examples = 1674\n",
      "  Batch size = 64\n"
     ]
    },
    {
     "data": {
      "text/html": [
       "\n",
       "    <div>\n",
       "      \n",
       "      <progress value='54' max='27' style='width:300px; height:20px; vertical-align: middle;'></progress>\n",
       "      [27/27 00:07]\n",
       "    </div>\n",
       "    "
      ],
      "text/plain": [
       "<IPython.core.display.HTML object>"
      ]
     },
     "metadata": {},
     "output_type": "display_data"
    },
    {
     "data": {
      "text/plain": [
       "{'eval_loss': 1.461648941040039,\n",
       " 'eval_f1': 0.4445994720666321,\n",
       " 'eval_accuracy': 0.49522102747909197,\n",
       " 'eval_runtime': 4.1574,\n",
       " 'eval_samples_per_second': 402.66,\n",
       " 'eval_steps_per_second': 6.495,\n",
       " 'epoch': 7.0}"
      ]
     },
     "execution_count": 10,
     "metadata": {},
     "output_type": "execute_result"
    }
   ],
   "source": [
    "trainer.train()\n",
    "trainer.evaluate()"
   ]
  },
  {
   "cell_type": "code",
   "execution_count": 11,
   "metadata": {},
   "outputs": [
    {
     "name": "stderr",
     "output_type": "stream",
     "text": [
      "The following columns in the test set  don't have a corresponding argument in `BertForSequenceClassification.forward` and have been ignored: tokens, augmented, en, sp. If tokens, augmented, en, sp are not expected by `BertForSequenceClassification.forward`,  you can safely ignore this message.\n",
      "***** Running Prediction *****\n",
      "  Num examples = 1675\n",
      "  Batch size = 64\n"
     ]
    },
    {
     "data": {
      "image/png": "[encoded data removed]",
      "text/plain": [
       "<Figure size 432x288 with 2 Axes>"
      ]
     },
     "metadata": {
      "needs_background": "light"
     },
     "output_type": "display_data"
    }
   ],
   "source": [
    "import torch\n",
    "import torch.nn.functional as F\n",
    "from sklearn import metrics\n",
    "from sklearn.metrics import confusion_matrix, ConfusionMatrixDisplay\n",
    "import matplotlib.pyplot as plt\n",
    "\n",
    "predictions=trainer.predict(test_dataset=tokenized_dataset[\"test\"])\n",
    "preds = np.argmax(predictions.predictions, axis=-1)\n",
    "confusion_matrix = metrics.confusion_matrix(tokenized_dataset['test']['label'], preds, labels=[0,1,2,3,4])\n",
    "disp = ConfusionMatrixDisplay(confusion_matrix=confusion_matrix,display_labels=[\"Value\",\"Value(+)\",\"Value(-)\",\"Fact\",\"Policy\"])\n",
    "disp.plot()\n",
    "#print(confusion_matrix)\n",
    "plt.show()"
   ]
  },
  {
   "cell_type": "code",
   "execution_count": 12,
   "metadata": {},
   "outputs": [
    {
     "data": {
      "text/plain": [
       "'\\n!pip install xlrd\\n!pip install odfpy\\n!pip install ipywidgets widgetsnbextension pandas-profiling\\n!pip install datasets\\n!pip install transformers\\n!pip install torch torchvision torchaudio --extra-index-url https://download.pytorch.org/whl/cu110\\n'"
      ]
     },
     "execution_count": 12,
     "metadata": {},
     "output_type": "execute_result"
    }
   ],
   "source": [
    "\"\"\"\n",
    "!pip install xlrd\n",
    "!pip install odfpy\n",
    "!pip install ipywidgets widgetsnbextension pandas-profiling\n",
    "!pip install datasets\n",
    "!pip install transformers\n",
    "!pip install torch torchvision torchaudio --extra-index-url https://download.pytorch.org/whl/cu110\n",
    "\"\"\""
   ]
  },
  {
   "cell_type": "code",
   "execution_count": 13,
   "metadata": {},
   "outputs": [],
   "source": [
    "torch.cuda.empty_cache()\n",
    "#!nvidia-smi"
   ]
  }
 ],
 "metadata": {
  "kernelspec": {
   "display_name": "Python 3",
   "language": "python",
   "name": "python3"
  },
  "language_info": {
   "codemirror_mode": {
    "name": "ipython",
    "version": 3
   },
   "file_extension": ".py",
   "mimetype": "text/x-python",
   "name": "python",
   "nbconvert_exporter": "python",
   "pygments_lexer": "ipython3",
   "version": "3.6.9"
  }
 },
 "nbformat": 4,
 "nbformat_minor": 4
}
